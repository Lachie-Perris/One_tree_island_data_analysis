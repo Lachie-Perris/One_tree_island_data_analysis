{
 "cells": [
  {
   "cell_type": "markdown",
   "id": "edfe7e9c-bc26-4326-b32f-5de648ad8454",
   "metadata": {},
   "source": [
    "# Shark alley bathymetric survey 20/11/2024\n",
    "\n",
    "Make a 3D plot from single beam echo sounder data!"
   ]
  },
  {
   "cell_type": "markdown",
   "id": "fba2ef61-18ff-4967-a7f0-87436f6380ba",
   "metadata": {},
   "source": [
    "### Import neccessary libraries"
   ]
  },
  {
   "cell_type": "code",
   "execution_count": null,
   "id": "aad5bf4c-a98e-4ebf-b180-4131adbc3940",
   "metadata": {
    "tags": []
   },
   "outputs": [],
   "source": [
    "import pandas as pd\n",
    "import numpy as np\n",
    "import os\n",
    "import matplotlib.pyplot as plt\n",
    "from matplotlib.pyplot import figure\n",
    "from scipy.signal import medfilt"
   ]
  },
  {
   "cell_type": "markdown",
   "id": "ec54d27e-5fef-4c7d-bcc0-94d5f0d6ace9",
   "metadata": {},
   "source": [
    "#### Read and check the data:"
   ]
  },
  {
   "cell_type": "code",
   "execution_count": null,
   "id": "dd33ebe8-526b-48fc-bb13-2e88a3ee170a",
   "metadata": {
    "tags": []
   },
   "outputs": [],
   "source": [
    "data = pd.read_csv('data/241119_shark_alley_survey.csv')\n",
    "data.head() # This allows us to look at the top of the dataframe. "
   ]
  },
  {
   "cell_type": "code",
   "execution_count": null,
   "id": "cfb58087-3e94-4c04-864c-7fccc11bb0d5",
   "metadata": {
    "tags": []
   },
   "outputs": [],
   "source": [
    "plt.plot(data['Depth'])"
   ]
  },
  {
   "cell_type": "markdown",
   "id": "f7e7b8d6-4436-4a28-802c-acbd45482b27",
   "metadata": {},
   "source": [
    "#### The data is messy!\n",
    "\n",
    "There are some zero values and some very deep measurements that seem unrealistic. \n",
    "\n",
    "The code below will clean the data."
   ]
  },
  {
   "cell_type": "code",
   "execution_count": null,
   "id": "a24a431b-1c07-4805-8178-cea3133244ba",
   "metadata": {
    "tags": []
   },
   "outputs": [],
   "source": [
    "# Step 1: Remove zeros\n",
    "data = data[data['Depth'] <= -1].copy()\n",
    "\n",
    "# Step 2: Apply median filter to remove spikes\n",
    "window_size = 7  # Choose an odd number for the window size (e.g., 3, 5, 7)\n",
    "\n",
    "# Step 3: Apply rolling average to smooth the data further\n",
    "rolling_window = 5  # Choose the rolling window size\n",
    "\n",
    "data['depth_despiked'] = medfilt(data['Depth'], kernel_size=window_size)\n",
    "data['depth_smoothed'] = data['depth_despiked'].rolling(window=rolling_window, center=True).mean()\n",
    "data['depth_smoothed'].plot()\n",
    "\n"
   ]
  },
  {
   "cell_type": "markdown",
   "id": "643dbfc2-6fb8-4667-a227-48ce9d0d3afa",
   "metadata": {},
   "source": [
    "Much better! "
   ]
  },
  {
   "cell_type": "code",
   "execution_count": null,
   "id": "66a0ade5-e497-4784-8d28-0186c0022768",
   "metadata": {
    "tags": []
   },
   "outputs": [],
   "source": [
    "\n",
    "plt.figure(figsize=(8, 6))\n",
    "scatter = plt.scatter(data['East'], data['North'], c=data['depth_smoothed'], cmap='viridis', s=10)\n",
    "plt.colorbar(scatter, label='Depth')\n",
    "plt.xlabel('East')\n",
    "plt.ylabel('North')\n",
    "plt.title('Shark Alley Survey')\n",
    "plt.grid(True)\n",
    "\n",
    "plt.show()"
   ]
  },
  {
   "cell_type": "code",
   "execution_count": null,
   "id": "4f3e58e4-44a8-4ff5-b8a1-58ca2591503d",
   "metadata": {
    "scrolled": true
   },
   "outputs": [],
   "source": [
    "import numpy as np\n",
    "import pandas as pd\n",
    "import matplotlib.pyplot as plt\n",
    "from scipy.interpolate import griddata\n",
    "\n",
    "# --- Input: merged_data with columns 'East', 'North', 'Depth applied elevation'\n",
    "df = data[['East', 'North', 'depth_smoothed']].dropna().copy()\n",
    "\n",
    "# If duplicate xy points exist, average their z to avoid issues\n",
    "df = df.groupby(['East', 'North'], as_index=False)['depth_smoothed'].mean()\n",
    "\n",
    "# Coords and values\n",
    "xy = df[['East', 'North']].to_numpy()\n",
    "z  = df['depth_smoothed'].to_numpy()\n",
    "\n",
    "# --- Make a grid (adjust nx, ny for resolution)\n",
    "nx, ny = 250, 250\n",
    "xmin, xmax = xy[:,0].min(), xy[:,0].max()\n",
    "ymin, ymax = xy[:,1].min(), xy[:,1].max()\n",
    "\n",
    "gx = np.linspace(xmin, xmax, nx)\n",
    "gy = np.linspace(ymin, ymax, ny)\n",
    "GX, GY = np.meshgrid(gx, gy)\n",
    "\n",
    "# --- Interpolate (method='linear' | 'cubic' | 'nearest')\n",
    "Z = griddata(points=xy, values=z, xi=(GX, GY), method='linear')\n",
    "\n",
    "# --- Plot\n",
    "plt.figure(figsize=(7.5, 7))\n",
    "im = plt.pcolormesh(GX, GY, Z, shading='auto', vmin=-7, vmax=-1)\n",
    "plt.scatter(xy[:,0], xy[:,1], s=8, c='k', alpha=0.6, label='Points')\n",
    "plt.gca().set_aspect('equal', adjustable='box')\n",
    "plt.xlabel('East'); plt.ylabel('North')\n",
    "cbar = plt.colorbar(im); cbar.set_label('Depth applied elevation')\n",
    "plt.title('Interpolated surface (griddata: linear)')\n",
    "plt.legend(frameon=True)\n",
    "plt.tight_layout()\n",
    "plt.show()\n",
    "\n",
    "# --- Plot\n",
    "plt.figure(figsize=(7.5, 7))\n",
    "im = plt.pcolormesh(GX, GY, Z, shading='auto', vmin=-7, vmax=-1)\n",
    "plt.gca().set_aspect('equal', adjustable='box')\n",
    "plt.xlabel('East'); plt.ylabel('North')\n",
    "cbar = plt.colorbar(im); cbar.set_label('Depth applied elevation')\n",
    "plt.title('Interpolated surface (griddata: linear)')\n",
    "plt.legend(frameon=True)\n",
    "plt.tight_layout()\n",
    "plt.show()\n"
   ]
  },
  {
   "cell_type": "code",
   "execution_count": null,
   "id": "7ad7b63c-8229-4be4-a950-d24d9cdb2c21",
   "metadata": {},
   "outputs": [],
   "source": [
    "import contextily as ctx\n",
    "\n",
    "# --- Coordinate reference system (CRS) ---------------------------------------\n",
    "# Purpose: tell contextily what projection your East/North coordinates use.\n",
    "# Replace with the correct EPSG for your data (example below is UTM 56S).\n",
    "crs_code = \"EPSG:32756\"\n",
    "\n",
    "# --- Create figure & plot your gridded surface -------------------------------\n",
    "# Purpose: draw the interpolated bathymetry as a coloured mesh.\n",
    "fig, ax = plt.subplots(figsize=(7.5, 7))\n",
    "im = ax.pcolormesh(\n",
    "    GX, GY, Z,\n",
    "    shading='auto',\n",
    "    vmin=-7, vmax=-0.5,\n",
    "    rasterized=True,         # lighter PDFs while keeping axes/text vector\n",
    "    cmap='viridis'           # choose your palette; 'viridis' is clear for depth\n",
    ")\n",
    "ax.set_aspect('equal', adjustable='box')\n",
    "ax.set_xlabel('East'); ax.set_ylabel('North')\n",
    "ax.set_title('Interpolated surface (griddata: linear)')\n",
    "\n",
    "# --- Colourbar ---------------------------------------------------------------\n",
    "# Purpose: give readers the value scale for the mesh colours.\n",
    "cbar = plt.colorbar(im, ax=ax)\n",
    "cbar.set_label('Depth applied elevation')\n",
    "\n",
    "# --- Compute data bounds & apply a small zoom-out ----------------------------\n",
    "# Purpose: expand the view a touch so the basemap context shows around the edges.\n",
    "x0, x1 = np.nanmin(GX), np.nanmax(GX)\n",
    "y0, y1 = np.nanmin(GY), np.nanmax(GY)\n",
    "pad = 0.50  # 5% extra space; try 0.02–0.10 as needed\n",
    "dx = (x1 - x0) * pad\n",
    "dy = (y1 - y0) * pad\n",
    "ax.set_xlim(x0 - dx, x1 + dx)\n",
    "ax.set_ylim(y0 - dy, y1 + dy)\n",
    "\n",
    "# --- Add basemap underlay ----------------------------------------------------\n",
    "# Purpose: place simple satellite imagery beneath your data for context.\n",
    "# Tip: if the imagery competes with colours, lower alpha or switch provider.\n",
    "ctx.add_basemap(\n",
    "    ax,\n",
    "    crs=crs_code,\n",
    "    source=ctx.providers.Esri.WorldImagery,  # swap for OpenStreetMap if preferred\n",
    "    alpha=0.9\n",
    ")\n",
    "\n",
    "# Some contextily versions adjust limits; re-assert if needed:\n",
    "ax.set_xlim(x0 - dx, x1 + dx)\n",
    "ax.set_ylim(y0 - dy, y1 + dy)\n",
    "\n",
    "# --- Final tidy-ups ----------------------------------------------------------\n",
    "# Purpose: remove padding and render.\n",
    "ax.margins(0)\n",
    "plt.tight_layout()\n",
    "plt.show()"
   ]
  },
  {
   "cell_type": "code",
   "execution_count": null,
   "id": "dc33ed9d-2662-435c-9992-e6eb479ec123",
   "metadata": {},
   "outputs": [],
   "source": []
  }
 ],
 "metadata": {
  "kernelspec": {
   "display_name": "Python [conda env:base] *",
   "language": "python",
   "name": "conda-base-py"
  },
  "language_info": {
   "codemirror_mode": {
    "name": "ipython",
    "version": 3
   },
   "file_extension": ".py",
   "mimetype": "text/x-python",
   "name": "python",
   "nbconvert_exporter": "python",
   "pygments_lexer": "ipython3",
   "version": "3.13.5"
  }
 },
 "nbformat": 4,
 "nbformat_minor": 5
}
