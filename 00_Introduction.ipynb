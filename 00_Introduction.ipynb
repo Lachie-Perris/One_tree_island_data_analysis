{
 "cells": [
  {
   "cell_type": "markdown",
   "metadata": {},
   "source": [
    "## Inroduction to Python \n",
    "\n",
    "### Basics\n",
    "\n",
    "- Python is a simple, high-level programming language that’s easy to read and write.\n",
    "- Its indentation (spaces at the start of a line) defines code structure instead of braces {}.\n",
    "- It’s open-source, free to use, and has a large community, so it’s great for beginners.\n",
    "\n",
    "### Python Environments\n",
    "\n",
    "A Python environment is where your code runs.\n",
    "\n",
    "The main types are:\n",
    "- **Global environment**: the default system-wide Python install.\n",
    "- **Virtual environment**: an isolated space for one project’s packages.\n",
    "- **Conda environment**: like virtual envs but managed through Anaconda, useful for data science.\n",
    "- **Google Colab / Jupyter**: cloud-based or notebook-style environments where you can mix code and text.\n",
    "\n",
    "### Jupyter Notebooks\n",
    "- Notebooks have cells that can contain text or code.\n",
    "- You can edit and run code cells by double-clicking them.\n",
    "- Great for experiments, data analysis, and teaching.\n",
    "\n",
    "[Anaconda](https://anaconda.cloud/)\n",
    "\n",
    "[Google colabs](https://research.google.com/colaboratory/), \n",
    "\n",
    "Native Installation https://jupyterlab.readthedocs.io/en/stable/getting_started/installation.html"
   ]
  },
  {
   "cell_type": "code",
   "execution_count": 8,
   "metadata": {
    "tags": []
   },
   "outputs": [],
   "source": [
    "#THIS IS A COMMAND CELL. \n",
    "#YOU CAN WRITE YOUR CODE HERE.\n",
    "#TO RUN YOUR CODE PRESS \"SHIFT-ENTER\" ON YOUR KEYBOARD \n",
    "#OR PRESS THE \"RUN BOTTOM\" IN THE TOOLBAR"
   ]
  },
  {
   "cell_type": "markdown",
   "metadata": {},
   "source": [
    "\n",
    "Jupyter interprets every word in a code cell as code unless the line starts with the symbol `#.` In python, the hashtag means _\"ignore everything in this line\"_ and therefore, it is used to add comments in the actual Python code.\n",
    "\n",
    "An example is given below:"
   ]
  },
  {
   "cell_type": "code",
   "execution_count": 4,
   "metadata": {
    "tags": []
   },
   "outputs": [],
   "source": [
    "#This is just a comment\n",
    "x=2 #this is another comment"
   ]
  },
  {
   "cell_type": "code",
   "execution_count": 6,
   "metadata": {
    "tags": []
   },
   "outputs": [
    {
     "data": {
      "text/plain": [
       "2"
      ]
     },
     "execution_count": 6,
     "metadata": {},
     "output_type": "execute_result"
    }
   ],
   "source": [
    "x"
   ]
  },
  {
   "cell_type": "markdown",
   "metadata": {},
   "source": [
    "In the example above the only command that Python executes is to set the variable _x_ to be equal to 2 (`x=2`) and it ignores every word after \"#\". \n",
    "\n",
    "# Python as a Calculator\n",
    "\n",
    "## Let us introduce the primary command in Python by simply considering it as a calculator.\n",
    "\n",
    "\n",
    "You can use a code cell to execute any numerical operation between numbers and print the result.  \n",
    "The syntax for numerical operations is straightforward: **+**, **-**, **\\***, **/**. You can use round parenthesis for grouping as well.\n",
    "\n",
    "**Run the command in the cell below for an example**\n",
    "<a id='as_calculator'></a>"
   ]
  },
  {
   "cell_type": "code",
   "execution_count": 13,
   "metadata": {
    "tags": []
   },
   "outputs": [
    {
     "data": {
      "text/plain": [
       "14.0"
      ]
     },
     "execution_count": 13,
     "metadata": {},
     "output_type": "execute_result"
    }
   ],
   "source": [
    "#Example 1: \n",
    "((4+5)-(14/7))*2\n",
    " "
   ]
  },
  {
   "cell_type": "code",
   "execution_count": 15,
   "metadata": {
    "tags": []
   },
   "outputs": [],
   "source": [
    "# Exercise:\n",
    "#You can use this command cell for trying any operation you like"
   ]
  },
  {
   "cell_type": "markdown",
   "metadata": {},
   "source": [
    "In the above example, the code does not \"save\" the result in any variable, but it just prints the value as output. \n",
    "\n",
    "When you write code, you often need to do several calculations and use the value later. To do this, you need to assign the operation result into a variable. \n",
    "\n",
    "Run the code in the cell below"
   ]
  },
  {
   "cell_type": "code",
   "execution_count": 11,
   "metadata": {
    "tags": []
   },
   "outputs": [],
   "source": [
    "#Example 2:  \n",
    "# Let's save the result from ((4+5)-(14/7))*2 into the variable x and calculate the y=x*2\n",
    "x=( (4+5)-(14/7))*2\n",
    "y=x*2\n",
    "#...if you don't see any outputs, please do not panic just keep reading"
   ]
  },
  {
   "cell_type": "markdown",
   "metadata": {},
   "source": [
    "As you have noticed, while the code in _Example 1_ produced an output ( `Out[]` ), the output is suppressed in the _Example 2_. If you want to display the value of any variables, you can type the variable in the command cell. For example "
   ]
  },
  {
   "cell_type": "code",
   "execution_count": 20,
   "metadata": {
    "tags": []
   },
   "outputs": [
    {
     "data": {
      "text/plain": [
       "14.0"
      ]
     },
     "execution_count": 20,
     "metadata": {},
     "output_type": "execute_result"
    }
   ],
   "source": [
    "x"
   ]
  },
  {
   "cell_type": "markdown",
   "metadata": {},
   "source": [
    "However, a better way is to use the command `print`, followed by the variable name in brackets. This command allows you to display several variables at the same time, if these are separating by a comma (`,`). For example, the code <center> `print(x,y) `</center> will display both **`x`** and **`y`**. "
   ]
  },
  {
   "cell_type": "code",
   "execution_count": 22,
   "metadata": {
    "tags": []
   },
   "outputs": [
    {
     "name": "stdout",
     "output_type": "stream",
     "text": [
      "14.0 28.0\n"
     ]
    }
   ],
   "source": [
    "#Example 2:  \n",
    "# Let's save the result from ((4+5)-(14/7))*2 into the variable x and calculate the y=x*2\n",
    "x=( (4+5)-(14/7))*2\n",
    "y=x*2\n",
    "#Print both x and y\n",
    "print(x,y)"
   ]
  },
  {
   "cell_type": "markdown",
   "metadata": {},
   "source": [
    "The command **`print()`** can also display sentence if they are contained in single brackets."
   ]
  },
  {
   "cell_type": "code",
   "execution_count": 25,
   "metadata": {
    "tags": []
   },
   "outputs": [
    {
     "name": "stdout",
     "output_type": "stream",
     "text": [
      "The value of x is  14.0\n"
     ]
    }
   ],
   "source": [
    "print('The value of x is ',x)"
   ]
  },
  {
   "cell_type": "markdown",
   "metadata": {},
   "source": [
    "In Python, you can create _non-numerical_ variable (named <b>string</b>) by enclosing letters in single quotes (`''`). For example, you can set a variable to contain letters, words or even sentences. \n",
    "\n",
    "For example: "
   ]
  },
  {
   "cell_type": "code",
   "execution_count": 27,
   "metadata": {
    "tags": []
   },
   "outputs": [
    {
     "name": "stdout",
     "output_type": "stream",
     "text": [
      "This is a string\n"
     ]
    }
   ],
   "source": [
    "# Set s as a string\n",
    "s='This is a string'\n",
    "print(s)"
   ]
  },
  {
   "cell_type": "markdown",
   "metadata": {},
   "source": [
    "<div style=\"background-color:LAVENDER\", text-align='justify'>\n",
    "<h2> <center><FONT COLOR=\"Purple\"> Hands On </FONT> </center></h2>\n",
    "</div>\n",
    "Copy the code used in the Example 2 cell and use `print()` to display the sentence \"<b>The result is</b>\" and the value of the variable <b>`y`</b>. \n",
    "_Hints: Don't forget to enclose the words between single quotes `'The result is '` and the comma before the variable  `y`. \n",
    "\n",
    "The output of your code should be: <b>The result is 28</b>."
   ]
  },
  {
   "cell_type": "code",
   "execution_count": 30,
   "metadata": {
    "tags": []
   },
   "outputs": [],
   "source": [
    "#Type your code here. "
   ]
  },
  {
   "cell_type": "markdown",
   "metadata": {},
   "source": [
    "## Objects in Python \n",
    "The real power of Python is that you can define different data structures, such as lists and data frame (more on this later). In Python, a *list* is a sequence of comma-separated values (or items) between square brackets. It can contain numbers, words or a bit of both.\n",
    "\n",
    "For example:  "
   ]
  },
  {
   "cell_type": "code",
   "execution_count": 41,
   "metadata": {
    "scrolled": true,
    "tags": []
   },
   "outputs": [
    {
     "name": "stdout",
     "output_type": "stream",
     "text": [
      "a contains [18, 25, 3, 4]\n",
      "b contains ['apple', 'orange', 'berry']\n",
      "c contains [5, 1244, 'green', 'berry', 'apple']\n"
     ]
    }
   ],
   "source": [
    "#a list of numbers\n",
    "a=[18,25,3,4]\n",
    "print( 'a contains',a)\n",
    "#a list of strings\n",
    "b=['apple','orange','berry']\n",
    "print('b contains',b)\n",
    "#a mixed list with both numbers and strings\n",
    "c=[5,1244,'green',\"berry\", 'apple']\n",
    "print('c contains',c)"
   ]
  },
  {
   "cell_type": "markdown",
   "metadata": {},
   "source": [
    "Now, you can access the content of a list by using `your_list[i]`, where `i` is just a number that indicate the position of the i-th element. For example, `your_list[0]` will show the first element in `your_list`, `your_list[1]` the second one and so on. \n",
    "\n",
    "**Important: Python starts to count from 0 and not from 1.**\n",
    "\n",
    "If you create a list of 3 elements, like `your_list=[1,2,3]`, we said that `your_list` has length 3. In Python, you can always check the length of a list by typing `len(your_list)`. This is very useful when is you don't know how many elements a list has. \n",
    " "
   ]
  },
  {
   "cell_type": "code",
   "execution_count": 1,
   "metadata": {
    "tags": []
   },
   "outputs": [
    {
     "name": "stdout",
     "output_type": "stream",
     "text": [
      "The list contains 3 elements\n"
     ]
    }
   ],
   "source": [
    "your_list=[1,2,3]\n",
    "print('The list contains',len(your_list),'elements')"
   ]
  },
  {
   "cell_type": "markdown",
   "metadata": {},
   "source": [
    "Python can also access to the elements of a list *backwards*. This is done by using negative numbers for `i` (-1,-2, etc.). So, `your_list[-1]` is the last element, `your_list[-2]` is the second last and so on."
   ]
  },
  {
   "cell_type": "code",
   "execution_count": 35,
   "metadata": {
    "tags": []
   },
   "outputs": [],
   "source": [
    "# Hello world"
   ]
  },
  {
   "cell_type": "code",
   "execution_count": 37,
   "metadata": {
    "tags": []
   },
   "outputs": [
    {
     "name": "stdout",
     "output_type": "stream",
     "text": [
      "hello world\n"
     ]
    }
   ],
   "source": [
    "print('hello world')"
   ]
  },
  {
   "cell_type": "code",
   "execution_count": 46,
   "metadata": {
    "tags": []
   },
   "outputs": [
    {
     "name": "stdout",
     "output_type": "stream",
     "text": [
      "first element # of a is a[0]= 18\n",
      "last element of b is b=[-1] berry\n",
      "second last element of c is c[-2]= berry\n"
     ]
    }
   ],
   "source": [
    "\n",
    "print( 'first element # of a is a[0]=', a[0]) #print the first element of a\n",
    "print('last element of b is b=[-1]', b[-1]) #alternatively you can print b[2] Check your self!^_-\n",
    "print('second last element of c is c[-2]=', c[-2])\n",
    "\n"
   ]
  }
 ],
 "metadata": {
  "kernelspec": {
   "display_name": "Python 3 (ipykernel)",
   "language": "python",
   "name": "python3"
  },
  "language_info": {
   "codemirror_mode": {
    "name": "ipython",
    "version": 3
   },
   "file_extension": ".py",
   "mimetype": "text/x-python",
   "name": "python",
   "nbconvert_exporter": "python",
   "pygments_lexer": "ipython3",
   "version": "3.11.5"
  }
 },
 "nbformat": 4,
 "nbformat_minor": 4
}
